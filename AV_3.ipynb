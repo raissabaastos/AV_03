{
 "cells": [
  {
   "cell_type": "markdown",
   "metadata": {},
   "source": [
    "# AVALIAÇÃO 3"
   ]
  },
  {
   "cell_type": "markdown",
   "metadata": {},
   "source": [
    "# exercício 1\n",
    "![alt text]({2001BDF5-D177-4476-9778-2FE9B744033F}.png)"
   ]
  },
  {
   "cell_type": "code",
   "execution_count": null,
   "metadata": {
    "vscode": {
     "languageId": "plaintext"
    }
   },
   "outputs": [],
   "source": []
  },
  {
   "cell_type": "markdown",
   "metadata": {},
   "source": [
    "# exercício 2\n",
    "![alt text]({3B85B007-0481-410C-9F03-EA34D7DC349D}.png)"
   ]
  },
  {
   "cell_type": "code",
   "execution_count": null,
   "metadata": {
    "vscode": {
     "languageId": "plaintext"
    }
   },
   "outputs": [],
   "source": []
  },
  {
   "cell_type": "markdown",
   "metadata": {},
   "source": [
    "# exercício 3\n",
    "![alt text]({2991A0C0-40AC-4A87-8AD4-5A1AF835D17F}.png)"
   ]
  },
  {
   "cell_type": "code",
   "execution_count": null,
   "metadata": {
    "vscode": {
     "languageId": "plaintext"
    }
   },
   "outputs": [],
   "source": [
    "import pandas as pd\n",
    "import matplotlib.pyplot as plt\n",
    "import seaborn as sns\n",
    "\n",
    "# Importa os arquivos\n",
    "df1 = pd.read_csv('1.csv', skiprows=4)\n",
    "df2 = pd.read_csv('2.csv', skiprows=4)\n",
    "df3 = pd.read_csv('3.csv', skiprows=4)\n",
    "\n",
    "# Escolha do país (por exemplo: \"Brazil\")\n",
    "pais = \"Brazil\"\n",
    "\n",
    "# Função para filtrar e preparar os dados\n",
    "def preparar_dados(df, nome_indicador):\n",
    "    dados = df[df[\"Country Name\"] == pais]\n",
    "    dados = dados.loc[:, \"1990\":\"2020\"]\n",
    "    dados = dados.T\n",
    "    dados.columns = [nome_indicador]\n",
    "    dados.index = dados.index.astype(int)\n",
    "    return dados\n",
    "\n",
    "# Prepara os três indicadores\n",
    "ind1 = preparar_dados(df1, \"Indicador 1\")\n",
    "ind2 = preparar_dados(df2, \"Indicador 2\")\n",
    "ind3 = preparar_dados(df3, \"Indicador 3\")\n",
    "\n",
    "# Junta os dados\n",
    "dados = pd.concat([ind1, ind2, ind3], axis=1).dropna()\n",
    "\n",
    "# 🔹 1. Gráfico de linha temporal\n",
    "plt.figure(figsize=(10,6))\n",
    "dados.plot()\n",
    "plt.title(f\"Tendência temporal dos indicadores - {pais}\")\n",
    "plt.xlabel(\"Ano\")\n",
    "plt.ylabel(\"Valor\")\n",
    "plt.grid(True)\n",
    "plt.legend()\n",
    "plt.show()\n",
    "\n",
    "# 🔹 2. Dispersão com regressão\n",
    "sns.pairplot(dados, kind=\"reg\", diag_kind=\"kde\")\n",
    "plt.suptitle(f\"Dispersão e tendência entre os indicadores - {pais}\", y=1.02)\n",
    "plt.show()\n",
    "\n",
    "# 🔹 3. Heatmap por década\n",
    "dados['Década'] = (dados.index // 10) * 10\n",
    "media_por_decada = dados.groupby('Década').mean()\n",
    "sns.heatmap(media_por_decada.T, annot=True, fmt=\".1f\", cmap=\"YlGnBu\")\n",
    "plt.title(f\"Heatmap das médias por década - {pais}\")\n",
    "plt.show()\n",
    "\n",
    "# 🔹 4. Gráfico de barras comparando um ano específico (ex: 2015)\n",
    "ano = 2015\n",
    "valores = dados.loc[ano]\n",
    "valores.plot(kind='bar', title=f\"Indicadores no ano de {ano} - {pais}\")\n",
    "plt.ylabel(\"Valor\")\n",
    "plt.grid(axis='y')\n",
    "plt.show()\n"
   ]
  }
 ],
 "metadata": {
  "language_info": {
   "name": "python"
  }
 },
 "nbformat": 4,
 "nbformat_minor": 2
}
